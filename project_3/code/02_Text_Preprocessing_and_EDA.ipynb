{
 "cells": [
  {
   "cell_type": "markdown",
   "metadata": {},
   "source": [
    "## Content\n",
    "- [Cleaning and removing duplicates](#Cleaning-and-removing-duplicates)\n",
    "- [Preprocessing Text Data](#Preprocessing-Text-Data)\n",
    "- [Exploratory Data Analysis](#Exploratory-Data-Analysis)"
   ]
  },
  {
   "cell_type": "code",
   "execution_count": 1,
   "metadata": {},
   "outputs": [
    {
     "name": "stderr",
     "output_type": "stream",
     "text": [
      "[nltk_data] Downloading package wordnet to\n",
      "[nltk_data]     C:\\Users\\jiana\\AppData\\Roaming\\nltk_data...\n",
      "[nltk_data]   Package wordnet is already up-to-date!\n",
      "[nltk_data] Downloading package stopwords to\n",
      "[nltk_data]     C:\\Users\\jiana\\AppData\\Roaming\\nltk_data...\n",
      "[nltk_data]   Package stopwords is already up-to-date!\n"
     ]
    }
   ],
   "source": [
    "# Importing libraries\n",
    "import pandas as pd\n",
    "import numpy as np\n",
    "import matplotlib.pyplot as plt\n",
    "import seaborn as sns\n",
    "plt.style.use('fivethirtyeight')\n",
    "\n",
    "%config InlineBackend.figure_format = 'retina'\n",
    "%matplotlib inline\n",
    "\n",
    "import nltk\n",
    "nltk.download('wordnet')\n",
    "nltk.download('stopwords')\n",
    "from nltk.corpus import stopwords\n",
    "from nltk.stem.porter import PorterStemmer\n",
    "import regex as re\n",
    "import requests\n",
    "\n",
    "from sklearn.feature_extraction.text import CountVectorizer"
   ]
  },
  {
   "cell_type": "code",
   "execution_count": 2,
   "metadata": {},
   "outputs": [],
   "source": [
    "# Importing data\n",
    "bball_df = pd.read_csv('../datasets/bball_df.csv')\n",
    "fball_df = pd.read_csv('../datasets/fball_df.csv')"
   ]
  },
  {
   "cell_type": "markdown",
   "metadata": {},
   "source": [
    "## Cleaning and removing duplicates"
   ]
  },
  {
   "cell_type": "code",
   "execution_count": 3,
   "metadata": {},
   "outputs": [
    {
     "data": {
      "text/html": [
       "<div>\n",
       "<style scoped>\n",
       "    .dataframe tbody tr th:only-of-type {\n",
       "        vertical-align: middle;\n",
       "    }\n",
       "\n",
       "    .dataframe tbody tr th {\n",
       "        vertical-align: top;\n",
       "    }\n",
       "\n",
       "    .dataframe thead th {\n",
       "        text-align: right;\n",
       "    }\n",
       "</style>\n",
       "<table border=\"1\" class=\"dataframe\">\n",
       "  <thead>\n",
       "    <tr style=\"text-align: right;\">\n",
       "      <th></th>\n",
       "      <th>approved_at_utc</th>\n",
       "      <th>subreddit</th>\n",
       "      <th>selftext</th>\n",
       "      <th>author_fullname</th>\n",
       "      <th>saved</th>\n",
       "      <th>mod_reason_title</th>\n",
       "      <th>gilded</th>\n",
       "      <th>clicked</th>\n",
       "      <th>title</th>\n",
       "      <th>link_flair_richtext</th>\n",
       "      <th>...</th>\n",
       "      <th>media</th>\n",
       "      <th>is_video</th>\n",
       "      <th>comments</th>\n",
       "      <th>post_hint</th>\n",
       "      <th>url_overridden_by_dest</th>\n",
       "      <th>preview</th>\n",
       "      <th>link_flair_template_id</th>\n",
       "      <th>poll_data</th>\n",
       "      <th>crosspost_parent_list</th>\n",
       "      <th>crosspost_parent</th>\n",
       "    </tr>\n",
       "  </thead>\n",
       "  <tbody>\n",
       "    <tr>\n",
       "      <th>0</th>\n",
       "      <td>NaN</td>\n",
       "      <td>Basketball</td>\n",
       "      <td>Admins have banned other subs for this.\\n\\nNo ...</td>\n",
       "      <td>t2_aj47j</td>\n",
       "      <td>False</td>\n",
       "      <td>NaN</td>\n",
       "      <td>0.0</td>\n",
       "      <td>False</td>\n",
       "      <td>RULE REMINDER: You cannot Post Offers to Trade...</td>\n",
       "      <td>[]</td>\n",
       "      <td>...</td>\n",
       "      <td>NaN</td>\n",
       "      <td>False</td>\n",
       "      <td>NaN</td>\n",
       "      <td>NaN</td>\n",
       "      <td>NaN</td>\n",
       "      <td>NaN</td>\n",
       "      <td>NaN</td>\n",
       "      <td>NaN</td>\n",
       "      <td>NaN</td>\n",
       "      <td>NaN</td>\n",
       "    </tr>\n",
       "    <tr>\n",
       "      <th>1</th>\n",
       "      <td>NaN</td>\n",
       "      <td>NaN</td>\n",
       "      <td>NaN</td>\n",
       "      <td>NaN</td>\n",
       "      <td>NaN</td>\n",
       "      <td>NaN</td>\n",
       "      <td>NaN</td>\n",
       "      <td>NaN</td>\n",
       "      <td>NaN</td>\n",
       "      <td>NaN</td>\n",
       "      <td>...</td>\n",
       "      <td>NaN</td>\n",
       "      <td>NaN</td>\n",
       "      <td>What are your recommendations on increasing yo...</td>\n",
       "      <td>NaN</td>\n",
       "      <td>NaN</td>\n",
       "      <td>NaN</td>\n",
       "      <td>NaN</td>\n",
       "      <td>NaN</td>\n",
       "      <td>NaN</td>\n",
       "      <td>NaN</td>\n",
       "    </tr>\n",
       "    <tr>\n",
       "      <th>2</th>\n",
       "      <td>NaN</td>\n",
       "      <td>NaN</td>\n",
       "      <td>NaN</td>\n",
       "      <td>NaN</td>\n",
       "      <td>NaN</td>\n",
       "      <td>NaN</td>\n",
       "      <td>NaN</td>\n",
       "      <td>NaN</td>\n",
       "      <td>NaN</td>\n",
       "      <td>NaN</td>\n",
       "      <td>...</td>\n",
       "      <td>NaN</td>\n",
       "      <td>NaN</td>\n",
       "      <td>Got it</td>\n",
       "      <td>NaN</td>\n",
       "      <td>NaN</td>\n",
       "      <td>NaN</td>\n",
       "      <td>NaN</td>\n",
       "      <td>NaN</td>\n",
       "      <td>NaN</td>\n",
       "      <td>NaN</td>\n",
       "    </tr>\n",
       "    <tr>\n",
       "      <th>3</th>\n",
       "      <td>NaN</td>\n",
       "      <td>NaN</td>\n",
       "      <td>NaN</td>\n",
       "      <td>NaN</td>\n",
       "      <td>NaN</td>\n",
       "      <td>NaN</td>\n",
       "      <td>NaN</td>\n",
       "      <td>NaN</td>\n",
       "      <td>NaN</td>\n",
       "      <td>NaN</td>\n",
       "      <td>...</td>\n",
       "      <td>NaN</td>\n",
       "      <td>NaN</td>\n",
       "      <td>Got it</td>\n",
       "      <td>NaN</td>\n",
       "      <td>NaN</td>\n",
       "      <td>NaN</td>\n",
       "      <td>NaN</td>\n",
       "      <td>NaN</td>\n",
       "      <td>NaN</td>\n",
       "      <td>NaN</td>\n",
       "    </tr>\n",
       "    <tr>\n",
       "      <th>4</th>\n",
       "      <td>NaN</td>\n",
       "      <td>NaN</td>\n",
       "      <td>NaN</td>\n",
       "      <td>NaN</td>\n",
       "      <td>NaN</td>\n",
       "      <td>NaN</td>\n",
       "      <td>NaN</td>\n",
       "      <td>NaN</td>\n",
       "      <td>NaN</td>\n",
       "      <td>NaN</td>\n",
       "      <td>...</td>\n",
       "      <td>NaN</td>\n",
       "      <td>NaN</td>\n",
       "      <td>how about just giving someone a free jump prog...</td>\n",
       "      <td>NaN</td>\n",
       "      <td>NaN</td>\n",
       "      <td>NaN</td>\n",
       "      <td>NaN</td>\n",
       "      <td>NaN</td>\n",
       "      <td>NaN</td>\n",
       "      <td>NaN</td>\n",
       "    </tr>\n",
       "  </tbody>\n",
       "</table>\n",
       "<p>5 rows × 112 columns</p>\n",
       "</div>"
      ],
      "text/plain": [
       "   approved_at_utc   subreddit  \\\n",
       "0              NaN  Basketball   \n",
       "1              NaN         NaN   \n",
       "2              NaN         NaN   \n",
       "3              NaN         NaN   \n",
       "4              NaN         NaN   \n",
       "\n",
       "                                            selftext author_fullname  saved  \\\n",
       "0  Admins have banned other subs for this.\\n\\nNo ...        t2_aj47j  False   \n",
       "1                                                NaN             NaN    NaN   \n",
       "2                                                NaN             NaN    NaN   \n",
       "3                                                NaN             NaN    NaN   \n",
       "4                                                NaN             NaN    NaN   \n",
       "\n",
       "   mod_reason_title  gilded clicked  \\\n",
       "0               NaN     0.0   False   \n",
       "1               NaN     NaN     NaN   \n",
       "2               NaN     NaN     NaN   \n",
       "3               NaN     NaN     NaN   \n",
       "4               NaN     NaN     NaN   \n",
       "\n",
       "                                               title link_flair_richtext  ...  \\\n",
       "0  RULE REMINDER: You cannot Post Offers to Trade...                  []  ...   \n",
       "1                                                NaN                 NaN  ...   \n",
       "2                                                NaN                 NaN  ...   \n",
       "3                                                NaN                 NaN  ...   \n",
       "4                                                NaN                 NaN  ...   \n",
       "\n",
       "  media is_video                                           comments  \\\n",
       "0   NaN    False                                                NaN   \n",
       "1   NaN      NaN  What are your recommendations on increasing yo...   \n",
       "2   NaN      NaN                                             Got it   \n",
       "3   NaN      NaN                                             Got it   \n",
       "4   NaN      NaN  how about just giving someone a free jump prog...   \n",
       "\n",
       "   post_hint  url_overridden_by_dest  preview  link_flair_template_id  \\\n",
       "0        NaN                     NaN      NaN                     NaN   \n",
       "1        NaN                     NaN      NaN                     NaN   \n",
       "2        NaN                     NaN      NaN                     NaN   \n",
       "3        NaN                     NaN      NaN                     NaN   \n",
       "4        NaN                     NaN      NaN                     NaN   \n",
       "\n",
       "  poll_data crosspost_parent_list crosspost_parent  \n",
       "0       NaN                   NaN              NaN  \n",
       "1       NaN                   NaN              NaN  \n",
       "2       NaN                   NaN              NaN  \n",
       "3       NaN                   NaN              NaN  \n",
       "4       NaN                   NaN              NaN  \n",
       "\n",
       "[5 rows x 112 columns]"
      ]
     },
     "execution_count": 3,
     "metadata": {},
     "output_type": "execute_result"
    }
   ],
   "source": [
    "bball_df.head() # data scrapped from r/Basketball"
   ]
  },
  {
   "cell_type": "code",
   "execution_count": 4,
   "metadata": {},
   "outputs": [
    {
     "name": "stdout",
     "output_type": "stream",
     "text": [
      "<class 'pandas.core.frame.DataFrame'>\n",
      "RangeIndex: 4677 entries, 0 to 4676\n",
      "Columns: 112 entries, approved_at_utc to crosspost_parent\n",
      "dtypes: float64(37), object(75)\n",
      "memory usage: 4.0+ MB\n"
     ]
    }
   ],
   "source": [
    "bball_df.info() # plenty of empty selftext, total 3332 comments/posts"
   ]
  },
  {
   "cell_type": "code",
   "execution_count": 5,
   "metadata": {},
   "outputs": [
    {
     "data": {
      "text/html": [
       "<div>\n",
       "<style scoped>\n",
       "    .dataframe tbody tr th:only-of-type {\n",
       "        vertical-align: middle;\n",
       "    }\n",
       "\n",
       "    .dataframe tbody tr th {\n",
       "        vertical-align: top;\n",
       "    }\n",
       "\n",
       "    .dataframe thead th {\n",
       "        text-align: right;\n",
       "    }\n",
       "</style>\n",
       "<table border=\"1\" class=\"dataframe\">\n",
       "  <thead>\n",
       "    <tr style=\"text-align: right;\">\n",
       "      <th></th>\n",
       "      <th>approved_at_utc</th>\n",
       "      <th>subreddit</th>\n",
       "      <th>selftext</th>\n",
       "      <th>author_fullname</th>\n",
       "      <th>saved</th>\n",
       "      <th>mod_reason_title</th>\n",
       "      <th>gilded</th>\n",
       "      <th>clicked</th>\n",
       "      <th>title</th>\n",
       "      <th>link_flair_richtext</th>\n",
       "      <th>...</th>\n",
       "      <th>created_utc</th>\n",
       "      <th>num_crossposts</th>\n",
       "      <th>media</th>\n",
       "      <th>is_video</th>\n",
       "      <th>comments</th>\n",
       "      <th>url_overridden_by_dest</th>\n",
       "      <th>crosspost_parent_list</th>\n",
       "      <th>crosspost_parent</th>\n",
       "      <th>media_metadata</th>\n",
       "      <th>author_cakeday</th>\n",
       "    </tr>\n",
       "  </thead>\n",
       "  <tbody>\n",
       "    <tr>\n",
       "      <th>0</th>\n",
       "      <td>NaN</td>\n",
       "      <td>soccer</td>\n",
       "      <td>This thread is for general football discussion...</td>\n",
       "      <td>t2_2glav0rp</td>\n",
       "      <td>False</td>\n",
       "      <td>NaN</td>\n",
       "      <td>0.0</td>\n",
       "      <td>False</td>\n",
       "      <td>Daily Discussion</td>\n",
       "      <td>[{'e': 'text', 't': 'Daily Discussion'}]</td>\n",
       "      <td>...</td>\n",
       "      <td>1.601497e+09</td>\n",
       "      <td>0.0</td>\n",
       "      <td>NaN</td>\n",
       "      <td>False</td>\n",
       "      <td>NaN</td>\n",
       "      <td>NaN</td>\n",
       "      <td>NaN</td>\n",
       "      <td>NaN</td>\n",
       "      <td>NaN</td>\n",
       "      <td>NaN</td>\n",
       "    </tr>\n",
       "    <tr>\n",
       "      <th>1</th>\n",
       "      <td>NaN</td>\n",
       "      <td>NaN</td>\n",
       "      <td>NaN</td>\n",
       "      <td>NaN</td>\n",
       "      <td>NaN</td>\n",
       "      <td>NaN</td>\n",
       "      <td>NaN</td>\n",
       "      <td>NaN</td>\n",
       "      <td>NaN</td>\n",
       "      <td>NaN</td>\n",
       "      <td>...</td>\n",
       "      <td>NaN</td>\n",
       "      <td>NaN</td>\n",
       "      <td>NaN</td>\n",
       "      <td>NaN</td>\n",
       "      <td>Marega will tear Laporte a new one</td>\n",
       "      <td>NaN</td>\n",
       "      <td>NaN</td>\n",
       "      <td>NaN</td>\n",
       "      <td>NaN</td>\n",
       "      <td>NaN</td>\n",
       "    </tr>\n",
       "    <tr>\n",
       "      <th>2</th>\n",
       "      <td>NaN</td>\n",
       "      <td>NaN</td>\n",
       "      <td>NaN</td>\n",
       "      <td>NaN</td>\n",
       "      <td>NaN</td>\n",
       "      <td>NaN</td>\n",
       "      <td>NaN</td>\n",
       "      <td>NaN</td>\n",
       "      <td>NaN</td>\n",
       "      <td>NaN</td>\n",
       "      <td>...</td>\n",
       "      <td>NaN</td>\n",
       "      <td>NaN</td>\n",
       "      <td>NaN</td>\n",
       "      <td>NaN</td>\n",
       "      <td>RIP Porto.</td>\n",
       "      <td>NaN</td>\n",
       "      <td>NaN</td>\n",
       "      <td>NaN</td>\n",
       "      <td>NaN</td>\n",
       "      <td>NaN</td>\n",
       "    </tr>\n",
       "    <tr>\n",
       "      <th>3</th>\n",
       "      <td>NaN</td>\n",
       "      <td>NaN</td>\n",
       "      <td>NaN</td>\n",
       "      <td>NaN</td>\n",
       "      <td>NaN</td>\n",
       "      <td>NaN</td>\n",
       "      <td>NaN</td>\n",
       "      <td>NaN</td>\n",
       "      <td>NaN</td>\n",
       "      <td>NaN</td>\n",
       "      <td>...</td>\n",
       "      <td>NaN</td>\n",
       "      <td>NaN</td>\n",
       "      <td>NaN</td>\n",
       "      <td>NaN</td>\n",
       "      <td>So Ruben Dias moved to England only to keep ge...</td>\n",
       "      <td>NaN</td>\n",
       "      <td>NaN</td>\n",
       "      <td>NaN</td>\n",
       "      <td>NaN</td>\n",
       "      <td>NaN</td>\n",
       "    </tr>\n",
       "    <tr>\n",
       "      <th>4</th>\n",
       "      <td>NaN</td>\n",
       "      <td>NaN</td>\n",
       "      <td>NaN</td>\n",
       "      <td>NaN</td>\n",
       "      <td>NaN</td>\n",
       "      <td>NaN</td>\n",
       "      <td>NaN</td>\n",
       "      <td>NaN</td>\n",
       "      <td>NaN</td>\n",
       "      <td>NaN</td>\n",
       "      <td>...</td>\n",
       "      <td>NaN</td>\n",
       "      <td>NaN</td>\n",
       "      <td>NaN</td>\n",
       "      <td>NaN</td>\n",
       "      <td>So why couldn't United get group C or H, when ...</td>\n",
       "      <td>NaN</td>\n",
       "      <td>NaN</td>\n",
       "      <td>NaN</td>\n",
       "      <td>NaN</td>\n",
       "      <td>NaN</td>\n",
       "    </tr>\n",
       "  </tbody>\n",
       "</table>\n",
       "<p>5 rows × 109 columns</p>\n",
       "</div>"
      ],
      "text/plain": [
       "   approved_at_utc subreddit  \\\n",
       "0              NaN    soccer   \n",
       "1              NaN       NaN   \n",
       "2              NaN       NaN   \n",
       "3              NaN       NaN   \n",
       "4              NaN       NaN   \n",
       "\n",
       "                                            selftext author_fullname  saved  \\\n",
       "0  This thread is for general football discussion...     t2_2glav0rp  False   \n",
       "1                                                NaN             NaN    NaN   \n",
       "2                                                NaN             NaN    NaN   \n",
       "3                                                NaN             NaN    NaN   \n",
       "4                                                NaN             NaN    NaN   \n",
       "\n",
       "   mod_reason_title  gilded clicked             title  \\\n",
       "0               NaN     0.0   False  Daily Discussion   \n",
       "1               NaN     NaN     NaN               NaN   \n",
       "2               NaN     NaN     NaN               NaN   \n",
       "3               NaN     NaN     NaN               NaN   \n",
       "4               NaN     NaN     NaN               NaN   \n",
       "\n",
       "                        link_flair_richtext  ...   created_utc num_crossposts  \\\n",
       "0  [{'e': 'text', 't': 'Daily Discussion'}]  ...  1.601497e+09            0.0   \n",
       "1                                       NaN  ...           NaN            NaN   \n",
       "2                                       NaN  ...           NaN            NaN   \n",
       "3                                       NaN  ...           NaN            NaN   \n",
       "4                                       NaN  ...           NaN            NaN   \n",
       "\n",
       "   media is_video                                           comments  \\\n",
       "0    NaN    False                                                NaN   \n",
       "1    NaN      NaN                 Marega will tear Laporte a new one   \n",
       "2    NaN      NaN                                         RIP Porto.   \n",
       "3    NaN      NaN  So Ruben Dias moved to England only to keep ge...   \n",
       "4    NaN      NaN  So why couldn't United get group C or H, when ...   \n",
       "\n",
       "   url_overridden_by_dest crosspost_parent_list crosspost_parent  \\\n",
       "0                     NaN                   NaN              NaN   \n",
       "1                     NaN                   NaN              NaN   \n",
       "2                     NaN                   NaN              NaN   \n",
       "3                     NaN                   NaN              NaN   \n",
       "4                     NaN                   NaN              NaN   \n",
       "\n",
       "  media_metadata author_cakeday  \n",
       "0            NaN            NaN  \n",
       "1            NaN            NaN  \n",
       "2            NaN            NaN  \n",
       "3            NaN            NaN  \n",
       "4            NaN            NaN  \n",
       "\n",
       "[5 rows x 109 columns]"
      ]
     },
     "execution_count": 5,
     "metadata": {},
     "output_type": "execute_result"
    }
   ],
   "source": [
    "fball_df.head() # data scrapped from r/soccer"
   ]
  },
  {
   "cell_type": "code",
   "execution_count": 6,
   "metadata": {},
   "outputs": [
    {
     "name": "stdout",
     "output_type": "stream",
     "text": [
      "<class 'pandas.core.frame.DataFrame'>\n",
      "RangeIndex: 6840 entries, 0 to 6839\n",
      "Columns: 109 entries, approved_at_utc to author_cakeday\n",
      "dtypes: float64(32), object(77)\n",
      "memory usage: 5.7+ MB\n"
     ]
    }
   ],
   "source": [
    "fball_df.info() # plenty of empty selftext, total 4701 comments/posts"
   ]
  },
  {
   "cell_type": "code",
   "execution_count": 7,
   "metadata": {},
   "outputs": [],
   "source": [
    "bball_df['subreddit'] = 0\n",
    "fball_df['subreddit'] = 1\n",
    "# Classifying basketball as 0 and soccer as 1"
   ]
  },
  {
   "cell_type": "code",
   "execution_count": 8,
   "metadata": {},
   "outputs": [
    {
     "data": {
      "text/html": [
       "<div>\n",
       "<style scoped>\n",
       "    .dataframe tbody tr th:only-of-type {\n",
       "        vertical-align: middle;\n",
       "    }\n",
       "\n",
       "    .dataframe tbody tr th {\n",
       "        vertical-align: top;\n",
       "    }\n",
       "\n",
       "    .dataframe thead th {\n",
       "        text-align: right;\n",
       "    }\n",
       "</style>\n",
       "<table border=\"1\" class=\"dataframe\">\n",
       "  <thead>\n",
       "    <tr style=\"text-align: right;\">\n",
       "      <th></th>\n",
       "      <th>approved_at_utc</th>\n",
       "      <th>subreddit</th>\n",
       "      <th>selftext</th>\n",
       "      <th>author_fullname</th>\n",
       "      <th>saved</th>\n",
       "      <th>mod_reason_title</th>\n",
       "      <th>gilded</th>\n",
       "      <th>clicked</th>\n",
       "      <th>title</th>\n",
       "      <th>link_flair_richtext</th>\n",
       "      <th>...</th>\n",
       "      <th>comments</th>\n",
       "      <th>post_hint</th>\n",
       "      <th>url_overridden_by_dest</th>\n",
       "      <th>preview</th>\n",
       "      <th>link_flair_template_id</th>\n",
       "      <th>poll_data</th>\n",
       "      <th>crosspost_parent_list</th>\n",
       "      <th>crosspost_parent</th>\n",
       "      <th>media_metadata</th>\n",
       "      <th>author_cakeday</th>\n",
       "    </tr>\n",
       "  </thead>\n",
       "  <tbody>\n",
       "    <tr>\n",
       "      <th>0</th>\n",
       "      <td>NaN</td>\n",
       "      <td>0</td>\n",
       "      <td>Admins have banned other subs for this.\\n\\nNo ...</td>\n",
       "      <td>t2_aj47j</td>\n",
       "      <td>False</td>\n",
       "      <td>NaN</td>\n",
       "      <td>0.0</td>\n",
       "      <td>False</td>\n",
       "      <td>RULE REMINDER: You cannot Post Offers to Trade...</td>\n",
       "      <td>[]</td>\n",
       "      <td>...</td>\n",
       "      <td>NaN</td>\n",
       "      <td>NaN</td>\n",
       "      <td>NaN</td>\n",
       "      <td>NaN</td>\n",
       "      <td>NaN</td>\n",
       "      <td>NaN</td>\n",
       "      <td>NaN</td>\n",
       "      <td>NaN</td>\n",
       "      <td>NaN</td>\n",
       "      <td>NaN</td>\n",
       "    </tr>\n",
       "    <tr>\n",
       "      <th>1</th>\n",
       "      <td>NaN</td>\n",
       "      <td>0</td>\n",
       "      <td>NaN</td>\n",
       "      <td>NaN</td>\n",
       "      <td>NaN</td>\n",
       "      <td>NaN</td>\n",
       "      <td>NaN</td>\n",
       "      <td>NaN</td>\n",
       "      <td>NaN</td>\n",
       "      <td>NaN</td>\n",
       "      <td>...</td>\n",
       "      <td>What are your recommendations on increasing yo...</td>\n",
       "      <td>NaN</td>\n",
       "      <td>NaN</td>\n",
       "      <td>NaN</td>\n",
       "      <td>NaN</td>\n",
       "      <td>NaN</td>\n",
       "      <td>NaN</td>\n",
       "      <td>NaN</td>\n",
       "      <td>NaN</td>\n",
       "      <td>NaN</td>\n",
       "    </tr>\n",
       "    <tr>\n",
       "      <th>2</th>\n",
       "      <td>NaN</td>\n",
       "      <td>0</td>\n",
       "      <td>NaN</td>\n",
       "      <td>NaN</td>\n",
       "      <td>NaN</td>\n",
       "      <td>NaN</td>\n",
       "      <td>NaN</td>\n",
       "      <td>NaN</td>\n",
       "      <td>NaN</td>\n",
       "      <td>NaN</td>\n",
       "      <td>...</td>\n",
       "      <td>Got it</td>\n",
       "      <td>NaN</td>\n",
       "      <td>NaN</td>\n",
       "      <td>NaN</td>\n",
       "      <td>NaN</td>\n",
       "      <td>NaN</td>\n",
       "      <td>NaN</td>\n",
       "      <td>NaN</td>\n",
       "      <td>NaN</td>\n",
       "      <td>NaN</td>\n",
       "    </tr>\n",
       "    <tr>\n",
       "      <th>3</th>\n",
       "      <td>NaN</td>\n",
       "      <td>0</td>\n",
       "      <td>NaN</td>\n",
       "      <td>NaN</td>\n",
       "      <td>NaN</td>\n",
       "      <td>NaN</td>\n",
       "      <td>NaN</td>\n",
       "      <td>NaN</td>\n",
       "      <td>NaN</td>\n",
       "      <td>NaN</td>\n",
       "      <td>...</td>\n",
       "      <td>Got it</td>\n",
       "      <td>NaN</td>\n",
       "      <td>NaN</td>\n",
       "      <td>NaN</td>\n",
       "      <td>NaN</td>\n",
       "      <td>NaN</td>\n",
       "      <td>NaN</td>\n",
       "      <td>NaN</td>\n",
       "      <td>NaN</td>\n",
       "      <td>NaN</td>\n",
       "    </tr>\n",
       "    <tr>\n",
       "      <th>4</th>\n",
       "      <td>NaN</td>\n",
       "      <td>0</td>\n",
       "      <td>NaN</td>\n",
       "      <td>NaN</td>\n",
       "      <td>NaN</td>\n",
       "      <td>NaN</td>\n",
       "      <td>NaN</td>\n",
       "      <td>NaN</td>\n",
       "      <td>NaN</td>\n",
       "      <td>NaN</td>\n",
       "      <td>...</td>\n",
       "      <td>how about just giving someone a free jump prog...</td>\n",
       "      <td>NaN</td>\n",
       "      <td>NaN</td>\n",
       "      <td>NaN</td>\n",
       "      <td>NaN</td>\n",
       "      <td>NaN</td>\n",
       "      <td>NaN</td>\n",
       "      <td>NaN</td>\n",
       "      <td>NaN</td>\n",
       "      <td>NaN</td>\n",
       "    </tr>\n",
       "  </tbody>\n",
       "</table>\n",
       "<p>5 rows × 114 columns</p>\n",
       "</div>"
      ],
      "text/plain": [
       "   approved_at_utc  subreddit  \\\n",
       "0              NaN          0   \n",
       "1              NaN          0   \n",
       "2              NaN          0   \n",
       "3              NaN          0   \n",
       "4              NaN          0   \n",
       "\n",
       "                                            selftext author_fullname  saved  \\\n",
       "0  Admins have banned other subs for this.\\n\\nNo ...        t2_aj47j  False   \n",
       "1                                                NaN             NaN    NaN   \n",
       "2                                                NaN             NaN    NaN   \n",
       "3                                                NaN             NaN    NaN   \n",
       "4                                                NaN             NaN    NaN   \n",
       "\n",
       "   mod_reason_title  gilded clicked  \\\n",
       "0               NaN     0.0   False   \n",
       "1               NaN     NaN     NaN   \n",
       "2               NaN     NaN     NaN   \n",
       "3               NaN     NaN     NaN   \n",
       "4               NaN     NaN     NaN   \n",
       "\n",
       "                                               title link_flair_richtext  ...  \\\n",
       "0  RULE REMINDER: You cannot Post Offers to Trade...                  []  ...   \n",
       "1                                                NaN                 NaN  ...   \n",
       "2                                                NaN                 NaN  ...   \n",
       "3                                                NaN                 NaN  ...   \n",
       "4                                                NaN                 NaN  ...   \n",
       "\n",
       "                                            comments post_hint  \\\n",
       "0                                                NaN       NaN   \n",
       "1  What are your recommendations on increasing yo...       NaN   \n",
       "2                                             Got it       NaN   \n",
       "3                                             Got it       NaN   \n",
       "4  how about just giving someone a free jump prog...       NaN   \n",
       "\n",
       "   url_overridden_by_dest preview  link_flair_template_id  poll_data  \\\n",
       "0                     NaN     NaN                     NaN        NaN   \n",
       "1                     NaN     NaN                     NaN        NaN   \n",
       "2                     NaN     NaN                     NaN        NaN   \n",
       "3                     NaN     NaN                     NaN        NaN   \n",
       "4                     NaN     NaN                     NaN        NaN   \n",
       "\n",
       "   crosspost_parent_list crosspost_parent media_metadata author_cakeday  \n",
       "0                    NaN              NaN            NaN            NaN  \n",
       "1                    NaN              NaN            NaN            NaN  \n",
       "2                    NaN              NaN            NaN            NaN  \n",
       "3                    NaN              NaN            NaN            NaN  \n",
       "4                    NaN              NaN            NaN            NaN  \n",
       "\n",
       "[5 rows x 114 columns]"
      ]
     },
     "execution_count": 8,
     "metadata": {},
     "output_type": "execute_result"
    }
   ],
   "source": [
    "combine = pd.concat([bball_df, fball_df]).reset_index().drop(columns='index')\n",
    "# Concatenating both subreddits dataframe together\n",
    "combine.head()"
   ]
  },
  {
   "cell_type": "code",
   "execution_count": 9,
   "metadata": {},
   "outputs": [],
   "source": [
    "combine = combine[['title','selftext','comments','subreddit']]\n",
    "# Getting only columns that we want"
   ]
  },
  {
   "cell_type": "code",
   "execution_count": 10,
   "metadata": {},
   "outputs": [
    {
     "data": {
      "text/plain": [
       "title         9274\n",
       "selftext     10419\n",
       "comments      2243\n",
       "subreddit        0\n",
       "dtype: int64"
      ]
     },
     "execution_count": 10,
     "metadata": {},
     "output_type": "execute_result"
    }
   ],
   "source": [
    "combine.isna().sum()\n",
    "# Columns with NaN values"
   ]
  },
  {
   "cell_type": "code",
   "execution_count": 11,
   "metadata": {},
   "outputs": [],
   "source": [
    "combine['title'] = combine['title'].apply(lambda clean : '' if type(clean) == float else clean)\n",
    "combine['selftext'] = combine['selftext'].apply(lambda clean : '' if type(clean) == float else clean)\n",
    "combine['comments'] = combine['comments'].apply(lambda clean : '' if type(clean) == float else clean)\n",
    "# cleaning title, selftext and comments columns"
   ]
  },
  {
   "cell_type": "code",
   "execution_count": 12,
   "metadata": {},
   "outputs": [
    {
     "data": {
      "text/plain": [
       "title        0\n",
       "selftext     0\n",
       "comments     0\n",
       "subreddit    0\n",
       "dtype: int64"
      ]
     },
     "execution_count": 12,
     "metadata": {},
     "output_type": "execute_result"
    }
   ],
   "source": [
    "combine.isna().sum()\n",
    "#  Removed Nan by replacing NaN values with ''"
   ]
  },
  {
   "cell_type": "code",
   "execution_count": 13,
   "metadata": {},
   "outputs": [],
   "source": [
    "combine['text'] = combine['title'] + ' ' + combine['selftext'] + ' ' + combine['comments']\n",
    "# Combining the title, selftext and comments to form a string of words"
   ]
  },
  {
   "cell_type": "code",
   "execution_count": 14,
   "metadata": {},
   "outputs": [
    {
     "data": {
      "text/plain": [
       "8396"
      ]
     },
     "execution_count": 14,
     "metadata": {},
     "output_type": "execute_result"
    }
   ],
   "source": [
    "combine['text'].nunique()\n",
    "# Number of unique texts"
   ]
  },
  {
   "cell_type": "code",
   "execution_count": 15,
   "metadata": {},
   "outputs": [
    {
     "data": {
      "text/plain": [
       "11517"
      ]
     },
     "execution_count": 15,
     "metadata": {},
     "output_type": "execute_result"
    }
   ],
   "source": [
    "len(combine['text'])\n",
    "# Total number of texts"
   ]
  },
  {
   "cell_type": "code",
   "execution_count": 16,
   "metadata": {},
   "outputs": [],
   "source": [
    "combine.drop_duplicates(subset = ['text'], inplace = True)\n",
    "# Drop all the duplicates"
   ]
  },
  {
   "cell_type": "code",
   "execution_count": 17,
   "metadata": {},
   "outputs": [
    {
     "data": {
      "text/plain": [
       "8396"
      ]
     },
     "execution_count": 17,
     "metadata": {},
     "output_type": "execute_result"
    }
   ],
   "source": [
    "len(combine['text'])\n",
    "# Checking if total number of texts after dropping duplicates matches number of unique"
   ]
  },
  {
   "cell_type": "code",
   "execution_count": 18,
   "metadata": {},
   "outputs": [
    {
     "data": {
      "text/html": [
       "<div>\n",
       "<style scoped>\n",
       "    .dataframe tbody tr th:only-of-type {\n",
       "        vertical-align: middle;\n",
       "    }\n",
       "\n",
       "    .dataframe tbody tr th {\n",
       "        vertical-align: top;\n",
       "    }\n",
       "\n",
       "    .dataframe thead th {\n",
       "        text-align: right;\n",
       "    }\n",
       "</style>\n",
       "<table border=\"1\" class=\"dataframe\">\n",
       "  <thead>\n",
       "    <tr style=\"text-align: right;\">\n",
       "      <th></th>\n",
       "      <th>title</th>\n",
       "      <th>selftext</th>\n",
       "      <th>comments</th>\n",
       "      <th>subreddit</th>\n",
       "      <th>text</th>\n",
       "    </tr>\n",
       "  </thead>\n",
       "  <tbody>\n",
       "    <tr>\n",
       "      <th>0</th>\n",
       "      <td>RULE REMINDER: You cannot Post Offers to Trade...</td>\n",
       "      <td>Admins have banned other subs for this.\\n\\nNo ...</td>\n",
       "      <td></td>\n",
       "      <td>0</td>\n",
       "      <td>RULE REMINDER: You cannot Post Offers to Trade...</td>\n",
       "    </tr>\n",
       "    <tr>\n",
       "      <th>1</th>\n",
       "      <td></td>\n",
       "      <td></td>\n",
       "      <td>What are your recommendations on increasing yo...</td>\n",
       "      <td>0</td>\n",
       "      <td>What are your recommendations on increasing ...</td>\n",
       "    </tr>\n",
       "    <tr>\n",
       "      <th>2</th>\n",
       "      <td></td>\n",
       "      <td></td>\n",
       "      <td>Got it</td>\n",
       "      <td>0</td>\n",
       "      <td>Got it</td>\n",
       "    </tr>\n",
       "    <tr>\n",
       "      <th>4</th>\n",
       "      <td></td>\n",
       "      <td></td>\n",
       "      <td>how about just giving someone a free jump prog...</td>\n",
       "      <td>0</td>\n",
       "      <td>how about just giving someone a free jump pr...</td>\n",
       "    </tr>\n",
       "    <tr>\n",
       "      <th>5</th>\n",
       "      <td></td>\n",
       "      <td></td>\n",
       "      <td>Boo</td>\n",
       "      <td>0</td>\n",
       "      <td>Boo</td>\n",
       "    </tr>\n",
       "  </tbody>\n",
       "</table>\n",
       "</div>"
      ],
      "text/plain": [
       "                                               title  \\\n",
       "0  RULE REMINDER: You cannot Post Offers to Trade...   \n",
       "1                                                      \n",
       "2                                                      \n",
       "4                                                      \n",
       "5                                                      \n",
       "\n",
       "                                            selftext  \\\n",
       "0  Admins have banned other subs for this.\\n\\nNo ...   \n",
       "1                                                      \n",
       "2                                                      \n",
       "4                                                      \n",
       "5                                                      \n",
       "\n",
       "                                            comments  subreddit  \\\n",
       "0                                                             0   \n",
       "1  What are your recommendations on increasing yo...          0   \n",
       "2                                             Got it          0   \n",
       "4  how about just giving someone a free jump prog...          0   \n",
       "5                                                Boo          0   \n",
       "\n",
       "                                                text  \n",
       "0  RULE REMINDER: You cannot Post Offers to Trade...  \n",
       "1    What are your recommendations on increasing ...  \n",
       "2                                             Got it  \n",
       "4    how about just giving someone a free jump pr...  \n",
       "5                                                Boo  "
      ]
     },
     "execution_count": 18,
     "metadata": {},
     "output_type": "execute_result"
    }
   ],
   "source": [
    "combine.head() # We will clean text column and analyse it"
   ]
  },
  {
   "cell_type": "markdown",
   "metadata": {},
   "source": [
    "## Preprocessing Text Data"
   ]
  },
  {
   "cell_type": "code",
   "execution_count": 19,
   "metadata": {},
   "outputs": [],
   "source": [
    "p_stemmer = PorterStemmer()\n",
    "stop_words = set(stopwords.words('english'))\n",
    "stop_words |= set(['icon','sprite','sub', 'txtblack', 'http', 'www'])\n",
    "# Adding CSS class icon into list of words to remove\n",
    "swear_words_corpus = requests.get(\"http://www.cs.cmu.edu/~biglou/resources/bad-words.txt\").text # Swear words to be removed\n",
    "swear_words = re.sub('[\\n]', ' ', swear_words_corpus)\n",
    "emoji_pattern = re.compile(\"[\"\n",
    "        u\"\\U0001F600-\\U0001F64F\"  # emoticons\n",
    "        u\"\\U0001F300-\\U0001F5FF\"  # symbols & pictographs\n",
    "        u\"\\U0001F680-\\U0001F6FF\"  # transport & map symbols\n",
    "        u\"\\U0001F1E0-\\U0001F1FF\"  # flags (iOS)\n",
    "                           \"]+\", flags=re.UNICODE)\n",
    "\n",
    "def processing_text(texts): # Function to process texts\n",
    "\n",
    "    word = re.sub('[^a-zA-Z]',' ',texts.lower())    # Remove non-letters and convert all to lower case\n",
    "    word = word.split() # Split into individual words\n",
    "    clean = [p_stemmer.stem(w) for w in word if w not in stop_words] # Removing stopwords and stemming remaining words\n",
    "    clean = [w for w in clean if w not in swear_words] # Removing swear words\n",
    "    clean = [w for w in clean if len(w) >= 2] # Remove all words that has single alphabets\n",
    "    clean = ' '.join(clean)\n",
    "    return (emoji_pattern.sub(r'', clean)) # no emoji"
   ]
  },
  {
   "cell_type": "code",
   "execution_count": 20,
   "metadata": {},
   "outputs": [],
   "source": [
    "combine['text'] = combine['text'].apply(processing_text)\n",
    "# Cleaning text column"
   ]
  },
  {
   "cell_type": "code",
   "execution_count": 21,
   "metadata": {},
   "outputs": [
    {
     "data": {
      "text/html": [
       "<div>\n",
       "<style scoped>\n",
       "    .dataframe tbody tr th:only-of-type {\n",
       "        vertical-align: middle;\n",
       "    }\n",
       "\n",
       "    .dataframe tbody tr th {\n",
       "        vertical-align: top;\n",
       "    }\n",
       "\n",
       "    .dataframe thead th {\n",
       "        text-align: right;\n",
       "    }\n",
       "</style>\n",
       "<table border=\"1\" class=\"dataframe\">\n",
       "  <thead>\n",
       "    <tr style=\"text-align: right;\">\n",
       "      <th></th>\n",
       "      <th>title</th>\n",
       "      <th>selftext</th>\n",
       "      <th>comments</th>\n",
       "      <th>subreddit</th>\n",
       "      <th>text</th>\n",
       "    </tr>\n",
       "  </thead>\n",
       "  <tbody>\n",
       "    <tr>\n",
       "      <th>2</th>\n",
       "      <td></td>\n",
       "      <td></td>\n",
       "      <td>Got it</td>\n",
       "      <td>0</td>\n",
       "      <td></td>\n",
       "    </tr>\n",
       "    <tr>\n",
       "      <th>5</th>\n",
       "      <td></td>\n",
       "      <td></td>\n",
       "      <td>Boo</td>\n",
       "      <td>0</td>\n",
       "      <td></td>\n",
       "    </tr>\n",
       "    <tr>\n",
       "      <th>29</th>\n",
       "      <td></td>\n",
       "      <td></td>\n",
       "      <td>Oh hi again</td>\n",
       "      <td>0</td>\n",
       "      <td></td>\n",
       "    </tr>\n",
       "    <tr>\n",
       "      <th>30</th>\n",
       "      <td></td>\n",
       "      <td></td>\n",
       "      <td>Ah shit here we go again</td>\n",
       "      <td>0</td>\n",
       "      <td></td>\n",
       "    </tr>\n",
       "    <tr>\n",
       "      <th>43</th>\n",
       "      <td></td>\n",
       "      <td></td>\n",
       "      <td>Yea</td>\n",
       "      <td>0</td>\n",
       "      <td></td>\n",
       "    </tr>\n",
       "    <tr>\n",
       "      <th>...</th>\n",
       "      <td>...</td>\n",
       "      <td>...</td>\n",
       "      <td>...</td>\n",
       "      <td>...</td>\n",
       "      <td>...</td>\n",
       "    </tr>\n",
       "    <tr>\n",
       "      <th>8991</th>\n",
       "      <td></td>\n",
       "      <td></td>\n",
       "      <td>Wtf was that</td>\n",
       "      <td>1</td>\n",
       "      <td></td>\n",
       "    </tr>\n",
       "    <tr>\n",
       "      <th>9107</th>\n",
       "      <td></td>\n",
       "      <td></td>\n",
       "      <td>Because he doesn't have eyes on the back of hi...</td>\n",
       "      <td>1</td>\n",
       "      <td></td>\n",
       "    </tr>\n",
       "    <tr>\n",
       "      <th>9133</th>\n",
       "      <td></td>\n",
       "      <td></td>\n",
       "      <td>Goddamn</td>\n",
       "      <td>1</td>\n",
       "      <td></td>\n",
       "    </tr>\n",
       "    <tr>\n",
       "      <th>9172</th>\n",
       "      <td></td>\n",
       "      <td></td>\n",
       "      <td>Yo. NFL. This man right here.</td>\n",
       "      <td>1</td>\n",
       "      <td></td>\n",
       "    </tr>\n",
       "    <tr>\n",
       "      <th>9199</th>\n",
       "      <td></td>\n",
       "      <td></td>\n",
       "      <td>Oh c'mon why we have to face Inter</td>\n",
       "      <td>1</td>\n",
       "      <td></td>\n",
       "    </tr>\n",
       "  </tbody>\n",
       "</table>\n",
       "<p>159 rows × 5 columns</p>\n",
       "</div>"
      ],
      "text/plain": [
       "     title selftext                                           comments  \\\n",
       "2                                                               Got it   \n",
       "5                                                                  Boo   \n",
       "29                                                         Oh hi again   \n",
       "30                                            Ah shit here we go again   \n",
       "43                                                                 Yea   \n",
       "...    ...      ...                                                ...   \n",
       "8991                                                      Wtf was that   \n",
       "9107                 Because he doesn't have eyes on the back of hi...   \n",
       "9133                                                           Goddamn   \n",
       "9172                                     Yo. NFL. This man right here.   \n",
       "9199                                Oh c'mon why we have to face Inter   \n",
       "\n",
       "      subreddit text  \n",
       "2             0       \n",
       "5             0       \n",
       "29            0       \n",
       "30            0       \n",
       "43            0       \n",
       "...         ...  ...  \n",
       "8991          1       \n",
       "9107          1       \n",
       "9133          1       \n",
       "9172          1       \n",
       "9199          1       \n",
       "\n",
       "[159 rows x 5 columns]"
      ]
     },
     "execution_count": 21,
     "metadata": {},
     "output_type": "execute_result"
    }
   ],
   "source": [
    "combine[combine['text']==''] # Will proceed to remove all these blank text"
   ]
  },
  {
   "cell_type": "code",
   "execution_count": 22,
   "metadata": {},
   "outputs": [],
   "source": [
    "combine.drop(index = combine[combine['text']==''].index, inplace = True)\n",
    "#  Dropped all the rows with blank text"
   ]
  },
  {
   "cell_type": "markdown",
   "metadata": {},
   "source": [
    "## Exploratory Data Analysis"
   ]
  },
  {
   "cell_type": "code",
   "execution_count": 23,
   "metadata": {},
   "outputs": [
    {
     "data": {
      "text/plain": [
       "1    4151\n",
       "0    4086\n",
       "Name: subreddit, dtype: int64"
      ]
     },
     "execution_count": 23,
     "metadata": {},
     "output_type": "execute_result"
    }
   ],
   "source": [
    "combine['subreddit'].value_counts()\n",
    "# Number of soccer to basketball posts/comments scrapped where soccer is 1 and basketball is 0"
   ]
  },
  {
   "cell_type": "code",
   "execution_count": 24,
   "metadata": {},
   "outputs": [
    {
     "data": {
      "image/png": "[encoded data removed]",
      "text/plain": [
       "<Figure size 504x360 with 1 Axes>"
      ]
     },
     "metadata": {
      "image/png": {
       "height": 332,
       "width": 497
      },
      "needs_background": "light"
     },
     "output_type": "display_data"
    }
   ],
   "source": [
    "plt.figure(figsize=[7,5])\n",
    "sns.countplot(combine['subreddit']).set_xticklabels(['basketball','soccer']);\n",
    "plt.title('Count of each category');\n",
    "# Well balanced class dataset"
   ]
  },
  {
   "cell_type": "code",
   "execution_count": 25,
   "metadata": {},
   "outputs": [],
   "source": [
    "bballcvec = CountVectorizer()\n",
    "bball_cvec = bballcvec.fit_transform(combine[combine['subreddit']==0]['text'])\n",
    "\n",
    "fballcvec = CountVectorizer()\n",
    "fball_cvec = fballcvec.fit_transform(combine[combine['subreddit']==1]['text'])\n",
    "\n",
    "combinecvec = CountVectorizer()\n",
    "combine_cvec = combinecvec.fit_transform(combine['text'])\n",
    "\n",
    "# Vectorizing the words for basketball, soccer and combined data"
   ]
  },
  {
   "cell_type": "code",
   "execution_count": 26,
   "metadata": {},
   "outputs": [],
   "source": [
    "bball_wordcount = pd.DataFrame(bball_cvec.todense(),columns = bballcvec.get_feature_names())\n",
    "fball_wordcount = pd.DataFrame(fball_cvec.todense(),columns = fballcvec.get_feature_names())\n",
    "combine_wordcount = pd.DataFrame(combine_cvec.toarray(),columns = combinecvec.get_feature_names())\n",
    "# Putting the vectorized words into dataframe for analysis"
   ]
  },
  {
   "cell_type": "markdown",
   "metadata": {},
   "source": [
    "**Count of each word for basketball**"
   ]
  },
  {
   "cell_type": "code",
   "execution_count": 27,
   "metadata": {},
   "outputs": [
    {
     "data": {
      "text/plain": [
       "basketbal    1173\n",
       "like          988\n",
       "game          954\n",
       "good          895\n",
       "make          738\n",
       "player        702\n",
       "work          684\n",
       "team          661\n",
       "jump          584\n",
       "help          547\n",
       "would         545\n",
       "practic       541\n",
       "also          507\n",
       "know          502\n",
       "start         488\n",
       "want          480\n",
       "need          475\n",
       "realli        446\n",
       "year          443\n",
       "better        426\n",
       "dtype: int64"
      ]
     },
     "execution_count": 27,
     "metadata": {},
     "output_type": "execute_result"
    }
   ],
   "source": [
    "bball_wordcount.sum().sort_values(ascending = False)[:20]\n",
    "# Top 20 words for basketball subreddit\n",
    "# The more common the usage of this words in a text/sentence, the higher chance it will be associated to basketball"
   ]
  },
  {
   "cell_type": "code",
   "execution_count": 28,
   "metadata": {},
   "outputs": [
    {
     "data": {
      "text/plain": [
       "aaa            1\n",
       "abandon        1\n",
       "abdomin        1\n",
       "abolish        1\n",
       "abridg         1\n",
       "              ..\n",
       "zna            1\n",
       "znam           1\n",
       "znoja          1\n",
       "zombi          1\n",
       "zvqwtlkgdyy    1\n",
       "Length: 2178, dtype: int64"
      ]
     },
     "execution_count": 28,
     "metadata": {},
     "output_type": "execute_result"
    }
   ],
   "source": [
    "bball_wordcount.sum()[bball_wordcount.sum() == 1]\n",
    "# Basketball words that only occured once\n",
    "# We will take care of these words with the min_df hyperparamter during our modelling"
   ]
  },
  {
   "cell_type": "markdown",
   "metadata": {},
   "source": [
    "**Count of each word for soccer**"
   ]
  },
  {
   "cell_type": "code",
   "execution_count": 29,
   "metadata": {},
   "outputs": [
    {
     "data": {
      "text/plain": [
       "player       572\n",
       "http         465\n",
       "goal         448\n",
       "match        418\n",
       "like         414\n",
       "team         393\n",
       "leagu        360\n",
       "substitut    355\n",
       "would        329\n",
       "game         325\n",
       "good         301\n",
       "year         293\n",
       "season       288\n",
       "card         279\n",
       "score        276\n",
       "sign         252\n",
       "see          224\n",
       "wiki         209\n",
       "first        206\n",
       "still        200\n",
       "dtype: int64"
      ]
     },
     "execution_count": 29,
     "metadata": {},
     "output_type": "execute_result"
    }
   ],
   "source": [
    "fball_wordcount.sum().sort_values(ascending = False)[:20]\n",
    "# Top 20 words for soccer subreddit\n",
    "# The more common the usage of this words in a text/sentence, the higher chance it will be associated to soccer"
   ]
  },
  {
   "cell_type": "code",
   "execution_count": 30,
   "metadata": {},
   "outputs": [
    {
     "data": {
      "text/plain": [
       "aaaaaaaaaaaaaaaaaaaaaaa    1\n",
       "aaaaaaaaqt                 1\n",
       "aahh                       1\n",
       "aalen                      1\n",
       "aarhu                      1\n",
       "                          ..\n",
       "zs                         1\n",
       "zuculini                   1\n",
       "zuri                       1\n",
       "zweiten                    1\n",
       "zwirn                      1\n",
       "Length: 3700, dtype: int64"
      ]
     },
     "execution_count": 30,
     "metadata": {},
     "output_type": "execute_result"
    }
   ],
   "source": [
    "fball_wordcount.sum()[fball_wordcount.sum() == 1]\n",
    "# Football words that only occured once\n",
    "# We will take care of these words with the min_df hyperparamter during our modelling"
   ]
  },
  {
   "cell_type": "markdown",
   "metadata": {},
   "source": [
    "**Top words for basketball and soccer**"
   ]
  },
  {
   "cell_type": "code",
   "execution_count": 31,
   "metadata": {},
   "outputs": [
    {
     "data": {
      "image/png": "[encoded data removed]",
      "text/plain": [
       "<Figure size 1080x432 with 2 Axes>"
      ]
     },
     "metadata": {
      "image/png": {
       "height": 418,
       "width": 999
      },
      "needs_background": "light"
     },
     "output_type": "display_data"
    }
   ],
   "source": [
    "fig, ax = plt.subplots(1,2,figsize=[15,6]);\n",
    "\n",
    "bball_wordcount.sum().sort_values(ascending = False)[:20].plot(kind = 'bar', ax = ax[0], rot = 45);\n",
    "fball_wordcount.sum().sort_values(ascending = False)[:20].plot(kind = 'bar', ax = ax[1], rot = 45);\n",
    "\n",
    "ax[0].set_title('Top 20 words for basketball subreddit');\n",
    "ax[1].set_title('Top 20 words for soccer subreddit');\n",
    "\n",
    "ax[0].set_ylabel('Basketball Word Count');\n",
    "ax[0].set_xlabel('Basketball Words');\n",
    "ax[1].set_ylabel('Soccer Word Count');\n",
    "ax[1].set_xlabel('Soccer Words');\n",
    "\n",
    "# Display of top 20 words from each subreddit"
   ]
  },
  {
   "cell_type": "code",
   "execution_count": 32,
   "metadata": {},
   "outputs": [
    {
     "data": {
      "image/png": "[encoded data removed]",
      "text/plain": [
       "<Figure size 1152x720 with 1 Axes>"
      ]
     },
     "metadata": {
      "image/png": {
       "height": 643,
       "width": 1061
      },
      "needs_background": "light"
     },
     "output_type": "display_data"
    }
   ],
   "source": [
    "plt.figure(figsize=[16,10]);\n",
    "combine_wordcount.sum().sort_values(ascending = False)[:40].plot(kind='bar');\n",
    "plt.title('Top 40 words of the combined data');\n",
    "plt.xlabel('Word');\n",
    "plt.ylabel('Count of Word');"
   ]
  },
  {
   "cell_type": "markdown",
   "metadata": {},
   "source": [
    "Showing the top 40 count of words overall. There seems to be more basketball words than soccer words."
   ]
  },
  {
   "cell_type": "code",
   "execution_count": 33,
   "metadata": {},
   "outputs": [],
   "source": [
    "combine.to_csv('../datasets/combine.csv', index = False)\n",
    "# saving combine dataset to CSV"
   ]
  }
 ],
 "metadata": {
  "kernelspec": {
   "display_name": "Python 3",
   "language": "python",
   "name": "python3"
  },
  "language_info": {
   "codemirror_mode": {
    "name": "ipython",
    "version": 3
   },
   "file_extension": ".py",
   "mimetype": "text/x-python",
   "name": "python",
   "nbconvert_exporter": "python",
   "pygments_lexer": "ipython3",
   "version": "3.8.3"
  }
 },
 "nbformat": 4,
 "nbformat_minor": 4
}
