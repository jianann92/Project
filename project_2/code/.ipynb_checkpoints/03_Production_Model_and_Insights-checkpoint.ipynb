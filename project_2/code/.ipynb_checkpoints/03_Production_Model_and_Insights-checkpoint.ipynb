{
 "cells": [
  {
   "cell_type": "markdown",
   "metadata": {},
   "source": [
    "## Production Model and Insights"
   ]
  },
  {
   "cell_type": "markdown",
   "metadata": {},
   "source": [
    "### Contents:\n",
    "- [Data Import](#Data-Import)\n",
    "- [Select and scale features that are effective predictors](#Select-and-scale-features-that-are-effective-predictors)\n",
    "- [Preprocessing Selected features](#Preprocessing-Selected-features)\n",
    "- [Fitting the Production Model](#Fitting-the-Production-Model)\n",
    "- [Implementing Production Model](#Implementing-Production-Model)"
   ]
  },
  {
   "cell_type": "code",
   "execution_count": 1,
   "metadata": {},
   "outputs": [],
   "source": [
    "# Importing libraries\n",
    "import pandas as pd\n",
    "import numpy as np\n",
    "import matplotlib.pyplot as plt\n",
    "import seaborn as sns\n",
    "plt.style.use('fivethirtyeight')\n",
    "\n",
    "%config InlineBackend.figure_format = 'retina'\n",
    "%matplotlib inline"
   ]
  },
  {
   "cell_type": "markdown",
   "metadata": {},
   "source": [
    "## Data Import"
   ]
  },
  {
   "cell_type": "code",
   "execution_count": 2,
   "metadata": {},
   "outputs": [],
   "source": [
    "train_set = pd.read_csv('../datasets/train_set.csv')\n",
    "test_set = pd.read_csv('../datasets/test_set.csv')"
   ]
  },
  {
   "cell_type": "markdown",
   "metadata": {},
   "source": [
    "## Select and scale features that are effective predictors"
   ]
  },
  {
   "cell_type": "code",
   "execution_count": 9,
   "metadata": {},
   "outputs": [],
   "source": [
    "X = train_set.drop(columns=['Unnamed: 0','Id','PID','House Style', 'Year Built', 'Exter Cond', 'BsmtFin Type 1',\n",
    "       'BsmtFin SF 2', 'Bsmt Unf SF', 'Central Air', '2nd Flr SF', 'Full Bath',\n",
    "       'Garage Cars', 'Garage Qual', 'Garage Cond', '3Ssn Porch', 'Pool Area',\n",
    "       'Misc Val', 'Mo Sold', 'Yr Sold', 'mszoning_RM', 'street_pave',\n",
    "       'lotshape_Reg', 'lotconfig_Inside', 'bldgtype_2fmCon', 'bldgtype_Twnhs',\n",
    "       'roof_matl_other', 'exterior1_HdBoard', 'exterior1_VinylSd',\n",
    "       'exterior2_MetalSd', 'exterior2_VinylSd', 'exterior2_exterior_others',\n",
    "       'vnr_other', 'foundation_CBlock', 'foundation_PConc', 'elect_SBrkr',\n",
    "       'elect_other', 'garage_type_no', 'garrage_finish_NA',\n",
    "       'garrage_finish_Unf','SalePrice'])\n",
    "# Remaining features at least effective features in predicting price\n",
    "\n",
    "y = train_set['SalePrice']"
   ]
  },
  {
   "cell_type": "code",
   "execution_count": 10,
   "metadata": {},
   "outputs": [],
   "source": [
    "from sklearn.preprocessing import StandardScaler\n",
    "ss = StandardScaler"
   ]
  },
  {
   "cell_type": "code",
   "execution_count": null,
   "metadata": {},
   "outputs": [],
   "source": []
  },
  {
   "cell_type": "code",
   "execution_count": null,
   "metadata": {},
   "outputs": [],
   "source": []
  },
  {
   "cell_type": "markdown",
   "metadata": {},
   "source": [
    "## Fitting the Production Model"
   ]
  },
  {
   "cell_type": "code",
   "execution_count": null,
   "metadata": {},
   "outputs": [],
   "source": []
  },
  {
   "cell_type": "code",
   "execution_count": null,
   "metadata": {},
   "outputs": [],
   "source": []
  },
  {
   "cell_type": "markdown",
   "metadata": {},
   "source": [
    "## Implementing Production Model"
   ]
  },
  {
   "cell_type": "code",
   "execution_count": null,
   "metadata": {},
   "outputs": [],
   "source": []
  }
 ],
 "metadata": {
  "kernelspec": {
   "display_name": "Python 3",
   "language": "python",
   "name": "python3"
  },
  "language_info": {
   "codemirror_mode": {
    "name": "ipython",
    "version": 3
   },
   "file_extension": ".py",
   "mimetype": "text/x-python",
   "name": "python",
   "nbconvert_exporter": "python",
   "pygments_lexer": "ipython3",
   "version": "3.8.3"
  }
 },
 "nbformat": 4,
 "nbformat_minor": 4
}
